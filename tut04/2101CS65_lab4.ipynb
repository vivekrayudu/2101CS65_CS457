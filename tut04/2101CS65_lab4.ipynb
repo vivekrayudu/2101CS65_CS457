{
  "nbformat": 4,
  "nbformat_minor": 0,
  "metadata": {
    "colab": {
      "provenance": []
    },
    "kernelspec": {
      "name": "python3",
      "display_name": "Python 3"
    },
    "language_info": {
      "name": "python"
    }
  },
  "cells": [
    {
      "cell_type": "code",
      "execution_count": null,
      "metadata": {
        "colab": {
          "base_uri": "https://localhost:8080/"
        },
        "id": "ztVZiB8_HBSI",
        "outputId": "37959358-13e9-455f-bf91-bc60e3e9240f"
      },
      "outputs": [
        {
          "output_type": "stream",
          "name": "stdout",
          "text": [
            "\n",
            "--- Secure Password Storage System ---\n",
            "[1] Register  [2] Login  [3] Exit\n",
            "Enter your choice: 1\n",
            "Enter username: dp\n",
            "Enter password: dp\n",
            "User 'dp' registered successfully!\n",
            "\n",
            "--- Secure Password Storage System ---\n",
            "[1] Register  [2] Login  [3] Exit\n",
            "Enter your choice: 2\n",
            "Enter username: dp\n",
            "Enter password: dp\n",
            "Login successful! ✅\n",
            "\n",
            "--- Secure Password Storage System ---\n",
            "[1] Register  [2] Login  [3] Exit\n",
            "Enter your choice: 3\n",
            "Exiting\n"
          ]
        }
      ],
      "source": [
        "import hashlib\n",
        "import os\n",
        "import json\n",
        "\n",
        "user_data = {}\n",
        "\n",
        "# Function to generate a salted SHA-256 hash3\n",
        "def hash_password(password, salt=None):\n",
        "    if salt is None:\n",
        "        salt = os.urandom(16)  # Generate a 16-byte random salt\n",
        "    hashed_password = hashlib.sha256(salt + password.encode()).hexdigest()\n",
        "    return salt.hex(), hashed_password\n",
        "\n",
        "# Function to register a new user\n",
        "def register():\n",
        "    username = input(\"Enter username: \").strip()\n",
        "    if username in user_data:\n",
        "        print(\"Username already exists! Try a different username.\")\n",
        "        return\n",
        "\n",
        "    password = input(\"Enter password: \").strip()\n",
        "    salt, hashed_password = hash_password(password)\n",
        "    user_data[username] = {\"salt\": salt, \"password\": hashed_password}\n",
        "\n",
        "    save_data()\n",
        "    print(f\"User '{username}' registered successfully!\")\n",
        "\n",
        "# Function to authenticate a user\n",
        "def login():\n",
        "    username = input(\"Enter username: \").strip()\n",
        "    if username not in user_data:\n",
        "        print(\"Invalid username or password!\")\n",
        "        return\n",
        "\n",
        "    password = input(\"Enter password: \").strip()\n",
        "    salt = bytes.fromhex(user_data[username][\"salt\"])\n",
        "    hashed_password = hashlib.sha256(salt + password.encode()).hexdigest()\n",
        "\n",
        "    if hashed_password == user_data[username][\"password\"]:\n",
        "        print(\"Login successful! ✅\")\n",
        "    else:\n",
        "        print(\"Invalid username or password! ❌\")\n",
        "\n",
        "# Function to save user data to a file (persistent storage)\n",
        "def save_data(file_path=\"users.json\"):\n",
        "    with open(file_path, \"w\") as f:\n",
        "        json.dump(user_data, f)\n",
        "\n",
        "# Function to load user data from a file\n",
        "def load_data(file_path=\"users.json\"):\n",
        "    global user_data\n",
        "    if os.path.exists(file_path):\n",
        "        with open(file_path, \"r\") as f:\n",
        "            user_data = json.load(f)\n",
        "\n",
        "# Load previous user data (if available)\n",
        "load_data()\n",
        "\n",
        "while True:\n",
        "    print(\"\\n--- Secure Password Storage System ---\")\n",
        "    print(\"[1] Register  [2] Login  [3] Exit\")\n",
        "\n",
        "    choice = input(\"Enter your choice: \").strip()\n",
        "\n",
        "    if choice == \"1\":\n",
        "        register()\n",
        "    elif choice == \"2\":\n",
        "        login()\n",
        "    elif choice == \"3\":\n",
        "        print(\"Exiting\")\n",
        "        break\n",
        "    else:\n",
        "        print(\"Please select either 1 or 2 or 3.\")\n"
      ]
    }
  ]
}