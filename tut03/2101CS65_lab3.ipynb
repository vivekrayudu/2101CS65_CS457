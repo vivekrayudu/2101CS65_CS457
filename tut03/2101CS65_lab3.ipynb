{
  "nbformat": 4,
  "nbformat_minor": 0,
  "metadata": {
    "colab": {
      "provenance": []
    },
    "kernelspec": {
      "name": "python3",
      "display_name": "Python 3"
    },
    "language_info": {
      "name": "python"
    }
  },
  "cells": [
    {
      "cell_type": "code",
      "execution_count": null,
      "metadata": {
        "colab": {
          "base_uri": "https://localhost:8080/"
        },
        "id": "BxY4ySeaIiUN",
        "outputId": "20fb9591-c638-4721-9fc4-a77563068b4f"
      },
      "outputs": [
        {
          "output_type": "stream",
          "name": "stdout",
          "text": [
            "Select criteria to enforce (comma-separated numbers):\n",
            "1 - Uppercase Letters (A-Z)\n",
            "2 - Lowercase Letters (a-z)\n",
            "3 - Numbers (0-9)\n",
            "4 - Special Characters (!, @, #) [Only these 3 allowed]\n",
            "Enter criteria numbers: 1\n",
            "\n",
            "Checking passwords from list:\n",
            "Total Valid Passwords: 4\n",
            "Total Invalid Passwords: 3\n",
            "\n",
            "Checking passwords from input.txt:\n",
            "Total Valid Passwords: 18\n",
            "Total Invalid Passwords: 981\n"
          ]
        }
      ],
      "source": [
        "import re\n",
        "\n",
        "def validate_password(password, selected_criteria):\n",
        "    if len(password) < 8:\n",
        "\n",
        "        return False\n",
        "\n",
        "    criteria_checks = {\n",
        "        1: any(char.isupper() for char in password),\n",
        "        2: any(char.islower() for char in password),\n",
        "        3: any(char.isdigit() for char in password),\n",
        "        4: bool(re.fullmatch(r'[a-zA-Z0-9!@#]+', password))\n",
        "    }\n",
        "\n",
        "    for crit in selected_criteria:\n",
        "        if not criteria_checks[crit]:\n",
        "\n",
        "            return False\n",
        "\n",
        "\n",
        "    return True\n",
        "\n",
        "def check_passwords_from_list(password_list, selected_criteria):\n",
        "    valid_count = 0\n",
        "    invalid_count = 0\n",
        "\n",
        "    for password in password_list:\n",
        "        if validate_password(password, selected_criteria):\n",
        "            #print(f\"Valid passowrd {password}\")\n",
        "            valid_count += 1\n",
        "        else:\n",
        "            #print(f\"Invalid passowrd {password}\")\n",
        "            invalid_count += 1\n",
        "\n",
        "    print(f\"Total Valid Passwords: {valid_count}\")\n",
        "    print(f\"Total Invalid Passwords: {invalid_count}\")\n",
        "\n",
        "def check_passwords_from_file(filename, selected_criteria):\n",
        "    try:\n",
        "        with open(filename, 'r') as file:\n",
        "            passwords = [line.strip() for line in file.readlines()]\n",
        "        check_passwords_from_list(passwords, selected_criteria)\n",
        "    except FileNotFoundError:\n",
        "        print(\"Error: input.txt file not found!\")\n",
        "\n",
        "print(\"Select criteria to enforce (comma-separated numbers):\")\n",
        "print(\"1 - Uppercase Letters (A-Z)\")\n",
        "print(\"2 - Lowercase Letters (a-z)\")\n",
        "print(\"3 - Numbers (0-9)\")\n",
        "print(\"4 - Special Characters (!, @, #) [Only these 3 allowed]\")\n",
        "\n",
        "selected_criteria = list(map(int, input(\"Enter criteria numbers: \").split(',')))\n",
        "\n",
        "password_list = [\n",
        "    \"A737904k*$2004\",\n",
        "    \"A1023k\",\n",
        "    \"Eshwar\",\n",
        "    \"abcdefg$\",\n",
        "    \"abcdefgABHD!@313\",\n",
        "    \"abcdefgABHD$$!@313\",\n",
        "    \"!@#1234Abcd\"\n",
        "]\n",
        "\n",
        "print(\"\\nChecking passwords from list:\")\n",
        "check_passwords_from_list(password_list, selected_criteria)\n",
        "\n",
        "print(\"\\nChecking passwords from input.txt:\")\n",
        "check_passwords_from_file(\"input.txt\", selected_criteria)"
      ]
    }
  ]
}